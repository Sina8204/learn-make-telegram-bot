{
  "nbformat": 4,
  "nbformat_minor": 0,
  "metadata": {
    "colab": {
      "provenance": [],
      "authorship_tag": "ABX9TyNfrfzB/9oaq9Hyq7dInFPJ",
      "include_colab_link": true
    },
    "kernelspec": {
      "name": "python3",
      "display_name": "Python 3"
    },
    "language_info": {
      "name": "python"
    }
  },
  "cells": [
    {
      "cell_type": "markdown",
      "metadata": {
        "id": "view-in-github",
        "colab_type": "text"
      },
      "source": [
        "<a href=\"https://colab.research.google.com/github/Sina8204/learn-make-telegram-bot/blob/main/exercise_TeleBot.ipynb\" target=\"_parent\"><img src=\"https://colab.research.google.com/assets/colab-badge.svg\" alt=\"Open In Colab\"/></a>"
      ]
    },
    {
      "cell_type": "markdown",
      "source": [
        "Install telebot module"
      ],
      "metadata": {
        "id": "2Dp_AybOT-Lw"
      }
    },
    {
      "cell_type": "code",
      "source": [
        "!pip install pyTelegramBotAPI"
      ],
      "metadata": {
        "id": "92MtWupOT6uZ"
      },
      "execution_count": null,
      "outputs": []
    },
    {
      "cell_type": "markdown",
      "source": [
        "T1) conect to the bot and send some message."
      ],
      "metadata": {
        "id": "GG6XwxafVP7t"
      }
    },
    {
      "cell_type": "code",
      "execution_count": null,
      "metadata": {
        "id": "-DX9nJKDPJml"
      },
      "outputs": [],
      "source": [
        "import telebot as tb\n",
        "bot = tb.TeleBot('8064045709:AAFd6qIg8UdrsyooR9o27E7n6hHPEeSvYO8')\n",
        "\n",
        "@bot.message_handler(commands = ['start'])\n",
        "def welcome(message):\n",
        "  bot.send_message(message.chat.id , f'welcom dear')\n",
        "\n",
        "@bot.message_handler(commands = ['username'])\n",
        "def welcome(message):\n",
        "  bot.send_message(message.chat.id , f'welcom dear {message.chat.username}')\n",
        "\n",
        "@bot.message_handler(commands = ['name'])\n",
        "def welcome(message):\n",
        "  bot.send_message(message.chat.id , f'welcom dear {message.chat.first_name}')\n",
        "\n",
        "bot.polling()"
      ]
    }
  ]
}